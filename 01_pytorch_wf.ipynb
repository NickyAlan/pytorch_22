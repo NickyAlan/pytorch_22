{
 "cells": [
  {
   "cell_type": "markdown",
   "metadata": {},
   "source": [
    "MACHINE LOVE NUMBERS, HUMEN LIKE PICTURES."
   ]
  },
  {
   "cell_type": "markdown",
   "metadata": {},
   "source": [
    "> https://www.learnpytorch.io/01_pytorch_workflow/"
   ]
  },
  {
   "cell_type": "code",
   "execution_count": 160,
   "metadata": {},
   "outputs": [
    {
     "data": {
      "text/plain": [
       "'1.12.0+cpu'"
      ]
     },
     "execution_count": 160,
     "metadata": {},
     "output_type": "execute_result"
    }
   ],
   "source": [
    "import torch\n",
    "import numpy as np\n",
    "from torch import nn \n",
    "import matplotlib.pyplot as plt\n",
    "\n",
    "torch.__version__"
   ]
  },
  {
   "cell_type": "code",
   "execution_count": 161,
   "metadata": {},
   "outputs": [
    {
     "data": {
      "image/png": "[encoded data removed]",
      "text/plain": [
       "<Figure size 432x288 with 1 Axes>"
      ]
     },
     "metadata": {
      "needs_background": "light"
     },
     "output_type": "display_data"
    }
   ],
   "source": [
    "# create parameters\n",
    "weight = 0.7\n",
    "bias = 0.3\n",
    "\n",
    "# creat data\n",
    "start = 0\n",
    "end = 1\n",
    "step = 0.02\n",
    "X = torch.arange(start, end, step).unsqueeze(dim=1) # X must be 2 dimention\n",
    "y = weight*X + bias\n",
    "\n",
    "plt.scatter(X, y, s=5, color='orange');"
   ]
  },
  {
   "cell_type": "code",
   "execution_count": 162,
   "metadata": {},
   "outputs": [
    {
     "data": {
      "text/plain": [
       "(40, 10)"
      ]
     },
     "execution_count": 162,
     "metadata": {},
     "output_type": "execute_result"
    },
    {
     "data": {
      "image/png": "[encoded data removed]",
      "text/plain": [
       "<Figure size 432x288 with 1 Axes>"
      ]
     },
     "metadata": {
      "needs_background": "light"
     },
     "output_type": "display_data"
    }
   ],
   "source": [
    "train_size = int(0.8 * len(X))\n",
    "random_index = np.random.permutation(len(X))\n",
    "X_train, y_train = random_index[:train_size], random_index[:train_size]\n",
    "X_test, y_test = random_index[train_size:], random_index[train_size:]\n",
    "\n",
    "X_train, y_train = torch.from_numpy(X_train), torch.from_numpy(y_train)\n",
    "X_test, y_test = torch.from_numpy(X_test), torch.from_numpy(y_test)\n",
    "\n",
    "plt.scatter(X_train, y_train, s=5, color='orange', label='train')\n",
    "plt.scatter(X_test, y_test, s=5, color='blue', label='test')\n",
    "plt.legend();\n",
    "len(X_train), len(X_test)"
   ]
  },
  {
   "cell_type": "markdown",
   "metadata": {},
   "source": [
    "Let's bulid linear regression model."
   ]
  },
  {
   "cell_type": "code",
   "execution_count": 163,
   "metadata": {},
   "outputs": [],
   "source": [
    "class LinearRegessionModel(nn.Module) :\n",
    "    def __init__(self) :\n",
    "        super().__init__()\n",
    "        self.weights = nn.Parameter(torch.randn(1, requires_grad=True, dtype=torch.float)) # start with random number and can learn by gradien decest (autograd)\n",
    "        self.bias = nn.Parameter(torch.randn(1, requires_grad=True, dtype=torch.float))\n",
    "    \n",
    "    # forward part\n",
    "    def forward(self, x: torch.Tensor) -> torch.Tensor :\n",
    "        return self.weights * x + self.bias  #just simple linear formular (y=mx+b)"
   ]
  },
  {
   "cell_type": "code",
   "execution_count": 164,
   "metadata": {},
   "outputs": [
    {
     "data": {
      "text/plain": [
       "OrderedDict([('weights', tensor([0.3367])), ('bias', tensor([0.1288]))])"
      ]
     },
     "execution_count": 164,
     "metadata": {},
     "output_type": "execute_result"
    }
   ],
   "source": [
    "torch.manual_seed(42)\n",
    "linear_model = LinearRegessionModel()\n",
    "linear_model.state_dict()"
   ]
  },
  {
   "cell_type": "markdown",
   "metadata": {},
   "source": [
    "making prediction by the randomize weights and bias"
   ]
  },
  {
   "cell_type": "code",
   "execution_count": 165,
   "metadata": {},
   "outputs": [
    {
     "data": {
      "image/png": "[encoded data removed]",
      "text/plain": [
       "<Figure size 432x288 with 1 Axes>"
      ]
     },
     "metadata": {
      "needs_background": "light"
     },
     "output_type": "display_data"
    }
   ],
   "source": [
    "with torch.inference_mode() :\n",
    "    y_preds = linear_model(X_test)\n",
    "\n",
    "plt.scatter(X_test, y_test, s=5, color='blue', label='test')\n",
    "plt.scatter(X_test, y_preds, s=5, color='red', label='predicts')\n",
    "plt.legend();"
   ]
  },
  {
   "cell_type": "markdown",
   "metadata": {},
   "source": [
    "> predicts really bad."
   ]
  },
  {
   "cell_type": "markdown",
   "metadata": {},
   "source": [
    "Let's train the 1st Model."
   ]
  },
  {
   "cell_type": "code",
   "execution_count": 166,
   "metadata": {},
   "outputs": [],
   "source": [
    "# create loss function\n",
    "loss_fn = nn.L1Loss() # L1Loss is a MAE\n",
    "\n",
    "# create the optimizer\n",
    "optimizer = torch.optim.SGD(params=linear_model.parameters(),lr=0.002)"
   ]
  },
  {
   "cell_type": "code",
   "execution_count": 167,
   "metadata": {},
   "outputs": [
    {
     "name": "stdout",
     "output_type": "stream",
     "text": [
      "Epoch: 0 | MAE Train Loss: 16.3875999 | MAE Test Loss: 13.9447231 \n",
      "Epoch: 10 | MAE Train Loss: 3.9674027 | MAE Test Loss: 2.5245256 \n",
      "Epoch: 20 | MAE Train Loss: 0.7614262 | MAE Test Loss: 0.4601962 \n",
      "Epoch: 30 | MAE Train Loss: 0.5847269 | MAE Test Loss: 0.6224163 \n",
      "Epoch: 40 | MAE Train Loss: 0.4582353 | MAE Test Loss: 0.7385075 \n",
      "Epoch: 50 | MAE Train Loss: 0.3820376 | MAE Test Loss: 0.8084046 \n",
      "Epoch: 60 | MAE Train Loss: 0.3058406 | MAE Test Loss: 0.8783022 \n",
      "Epoch: 70 | MAE Train Loss: 0.2296432 | MAE Test Loss: 0.9482005 \n",
      "Epoch: 80 | MAE Train Loss: 0.1761586 | MAE Test Loss: 0.9972442 \n",
      "Epoch: 90 | MAE Train Loss: 0.1378161 | MAE Test Loss: 1.0323883 \n"
     ]
    }
   ],
   "source": [
    "# trian the Model\n",
    "epochs = 100\n",
    "train_loss_ = []\n",
    "test_loss_ = []\n",
    "epoch_count = []\n",
    "\n",
    "for epoch in range(epochs) :\n",
    "    linear_model.train()\n",
    "    \n",
    "    # predict for each epoch (this use forward part)\n",
    "    y_pred = linear_model(X_train)\n",
    "    loss = loss_fn(y_pred, y_train)\n",
    "    \n",
    "    optimizer.zero_grad() # before do backpropragation\n",
    "    # so that you do the parameter update correctly. Otherwise, \n",
    "    # the gradient would be a combination of the old gradient\n",
    "    loss.backward()\n",
    "    optimizer.step()\n",
    "\n",
    "    linear_model.eval() # evaluate the model\n",
    "\n",
    "    # prediction for every 10 epoch (validtion data: by this we use X_test)\n",
    "    with torch.inference_mode() :\n",
    "        test_pred = linear_model(X_test)\n",
    "        test_loss = loss_fn(test_pred, y_test.type(torch.float)) # need to be same datatype\n",
    "\n",
    "        if epoch % 10 == 0 :\n",
    "            epoch_count.append(epoch) \n",
    "            train_loss_.append(loss.detach().numpy())\n",
    "            test_loss_.append(test_loss.detach().numpy())\n",
    "            print(f\"Epoch: {epoch} | MAE Train Loss: {loss:.7f} | MAE Test Loss: {test_loss:.7f} \")"
   ]
  },
  {
   "cell_type": "code",
   "execution_count": 168,
   "metadata": {},
   "outputs": [
    {
     "data": {
      "image/png": "[encoded data removed]",
      "text/plain": [
       "<Figure size 432x288 with 1 Axes>"
      ]
     },
     "metadata": {
      "needs_background": "light"
     },
     "output_type": "display_data"
    }
   ],
   "source": [
    "plt.plot(epoch_count, train_loss_, label='train_loss')\n",
    "plt.plot(epoch_count, test_loss_, label='test_loss')\n",
    "plt.title('Train and test loss curve')\n",
    "plt.ylabel('Loss')\n",
    "plt.xlabel('Epoch')\n",
    "plt.legend();"
   ]
  },
  {
   "cell_type": "code",
   "execution_count": 175,
   "metadata": {},
   "outputs": [
    {
     "data": {
      "image/png": "[encoded data removed]",
      "text/plain": [
       "<Figure size 432x288 with 1 Axes>"
      ]
     },
     "metadata": {
      "needs_background": "light"
     },
     "output_type": "display_data"
    }
   ],
   "source": [
    "# Set the model in evaluation mode\n",
    "linear_model.eval()\n",
    "\n",
    "with torch.inference_mode() :\n",
    "    y_preds = linear_model(X)\n",
    "\n",
    "plt.scatter(X, y, s=5, color='blue', label='test')\n",
    "plt.scatter(X, y_preds, s=5, color='red', label='predicts')\n",
    "plt.legend();"
   ]
  },
  {
   "cell_type": "code",
   "execution_count": 170,
   "metadata": {},
   "outputs": [
    {
     "name": "stdout",
     "output_type": "stream",
     "text": [
      "The model learned the following values for weights and bias:\n",
      "OrderedDict([('weights', tensor([0.9983])), ('bias', tensor([0.1420]))])\n",
      "\n",
      "And the original values for weights and bias are:\n",
      "weights: 0.7, bias: 0.3\n"
     ]
    }
   ],
   "source": [
    "# Find our model's learned parameters\n",
    "print(\"The model learned the following values for weights and bias:\")\n",
    "print(linear_model.state_dict())\n",
    "print(\"\\nAnd the original values for weights and bias are:\")\n",
    "print(f\"weights: {weight}, bias: {bias}\")"
   ]
  },
  {
   "cell_type": "markdown",
   "metadata": {},
   "source": [
    "Saving a PyTorch model's"
   ]
  },
  {
   "cell_type": "code",
   "execution_count": 171,
   "metadata": {},
   "outputs": [
    {
     "name": "stdout",
     "output_type": "stream",
     "text": [
      "save model to : save_model\\0.1_pytorch_wf_model_0.pth\n"
     ]
    }
   ],
   "source": [
    "from pathlib import Path\n",
    "\n",
    "MODEL_PATH = Path('save_model')\n",
    "MODEL_PATH.mkdir(parents=True, exist_ok=True)\n",
    "\n",
    "MODEL_NAME = '0.1_pytorch_wf_model_0.pth'\n",
    "MODEL_SAVE_PATH = MODEL_PATH / MODEL_NAME\n",
    "\n",
    "print(f'save model to : {MODEL_SAVE_PATH}')\n",
    "torch.save(linear_model.state_dict(), f=MODEL_SAVE_PATH)"
   ]
  },
  {
   "cell_type": "markdown",
   "metadata": {},
   "source": [
    "Load a saved model's"
   ]
  },
  {
   "cell_type": "code",
   "execution_count": 172,
   "metadata": {},
   "outputs": [
    {
     "data": {
      "text/plain": [
       "<All keys matched successfully>"
      ]
     },
     "execution_count": 172,
     "metadata": {},
     "output_type": "execute_result"
    }
   ],
   "source": [
    "loaded_model = LinearRegessionModel()\n",
    "loaded_model.load_state_dict(torch.load(f=MODEL_SAVE_PATH)) # like load weights"
   ]
  },
  {
   "cell_type": "code",
   "execution_count": 173,
   "metadata": {},
   "outputs": [
    {
     "data": {
      "text/plain": [
       "OrderedDict([('weights', tensor([0.9983])), ('bias', tensor([0.1420]))])"
      ]
     },
     "execution_count": 173,
     "metadata": {},
     "output_type": "execute_result"
    }
   ],
   "source": [
    "loaded_model.state_dict()"
   ]
  }
 ],
 "metadata": {
  "kernelspec": {
   "display_name": "Python 3.10.0 64-bit",
   "language": "python",
   "name": "python3"
  },
  "language_info": {
   "codemirror_mode": {
    "name": "ipython",
    "version": 3
   },
   "file_extension": ".py",
   "mimetype": "text/x-python",
   "name": "python",
   "nbconvert_exporter": "python",
   "pygments_lexer": "ipython3",
   "version": "3.10.0"
  },
  "orig_nbformat": 4,
  "vscode": {
   "interpreter": {
    "hash": "63e79917a05e390872358bfb73c58bc903ada01d2d04077091749088207d82cf"
   }
  }
 },
 "nbformat": 4,
 "nbformat_minor": 2
}
